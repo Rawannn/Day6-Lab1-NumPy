{
 "cells": [
  {
   "cell_type": "code",
   "execution_count": 2,
   "id": "212fd1ba",
   "metadata": {},
   "outputs": [],
   "source": [
    "import numpy as np\n"
   ]
  },
  {
   "cell_type": "code",
   "execution_count": 19,
   "id": "6c7de860",
   "metadata": {},
   "outputs": [
    {
     "name": "stdout",
     "output_type": "stream",
     "text": [
      "[1]\n",
      "[0.]\n"
     ]
    }
   ],
   "source": [
    "## Q#1: Create x array with elements equal to 1.\n",
    "x = np.array([1])\n",
    "print(x)\n",
    "x1 = np.zeros(1)\n",
    "print(x1)"
   ]
  },
  {
   "cell_type": "code",
   "execution_count": 9,
   "id": "c6628b6b",
   "metadata": {},
   "outputs": [
    {
     "name": "stdout",
     "output_type": "stream",
     "text": [
      "[0]\n",
      "[1.]\n"
     ]
    }
   ],
   "source": [
    "## Q#2: Create y array with elements equal to 0.\n",
    "y = np.array([0])\n",
    "print(y)\n",
    "y1 = np.ones(1)\n",
    "print(y1)"
   ]
  },
  {
   "cell_type": "code",
   "execution_count": 13,
   "id": "631bdba4",
   "metadata": {},
   "outputs": [
    {
     "name": "stdout",
     "output_type": "stream",
     "text": [
      "[1 0]\n",
      "[0. 1.]\n"
     ]
    }
   ],
   "source": [
    "## Q#3: Add x and y arrays.\n",
    "s = np.concatenate((x,y))\n",
    "s1 = np.concatenate((x1,y1))\n",
    "\n",
    "print(s)\n",
    "print(s1)"
   ]
  },
  {
   "cell_type": "code",
   "execution_count": 26,
   "id": "610a7336",
   "metadata": {},
   "outputs": [
    {
     "data": {
      "text/plain": [
       "1"
      ]
     },
     "execution_count": 26,
     "metadata": {},
     "output_type": "execute_result"
    }
   ],
   "source": [
    "## Q#4: Print x array characteristics (e.g: dimension, shape, size, type)\n",
    "\n",
    "x.shape\n",
    "x.size\n",
    "x.ndim\n"
   ]
  },
  {
   "cell_type": "markdown",
   "id": "ad803f93",
   "metadata": {},
   "source": [
    "# Q#5: Create a 2D array \"called w\" as the following:\n",
    "\n",
    "|       |          |\n",
    "| ----- | -------- |\n",
    "| 11    | 12       |\n",
    "| 13    | 14       |\n",
    "| 15    | 16       |\n"
   ]
  },
  {
   "cell_type": "code",
   "execution_count": 31,
   "id": "9f6a4578",
   "metadata": {},
   "outputs": [
    {
     "name": "stdout",
     "output_type": "stream",
     "text": [
      "[[11 13 15]\n",
      " [12 14 16]]\n"
     ]
    }
   ],
   "source": [
    "w = np.array([[11,13,15],[12,14,16]])\n",
    "print(w)"
   ]
  },
  {
   "cell_type": "code",
   "execution_count": 32,
   "id": "69575c0f",
   "metadata": {},
   "outputs": [
    {
     "name": "stdout",
     "output_type": "stream",
     "text": [
      "[1 2 3]\n"
     ]
    }
   ],
   "source": [
    "## Q#6: Create z array contains the numbers from 1 to 3.\n",
    "z = np.array([1,2,3])\n",
    "print(z)"
   ]
  },
  {
   "cell_type": "code",
   "execution_count": 104,
   "id": "7885ac64",
   "metadata": {},
   "outputs": [
    {
     "name": "stdout",
     "output_type": "stream",
     "text": [
      "[[ 1]\n",
      " [ 2]\n",
      " [ 3]\n",
      " [11]\n",
      " [13]\n",
      " [15]\n",
      " [12]\n",
      " [14]\n",
      " [16]]\n"
     ]
    }
   ],
   "source": [
    "## Q#7: Combine the arrays z and w in vertical way then save it in a new variable \"newArray\".\n",
    "z3=z.flatten()\n",
    "w2 = w.flatten()\n",
    "s3 = np.concatenate((z3,w2))\n",
    "newArray = np.vstack(s3)\n",
    "print(newArray)"
   ]
  },
  {
   "cell_type": "code",
   "execution_count": 78,
   "id": "3e4e5eb4",
   "metadata": {},
   "outputs": [
    {
     "name": "stdout",
     "output_type": "stream",
     "text": [
      "[1]\n",
      "[2]\n",
      "[3]\n",
      "[11]\n",
      "[13]\n",
      "[15]\n",
      "[12]\n",
      "[14]\n",
      "[16]\n"
     ]
    }
   ],
   "source": [
    "## Q#8: Print all elements of \"newArray\" using the loop.\n",
    "for x in newArray:\n",
    "    print(x)"
   ]
  },
  {
   "cell_type": "code",
   "execution_count": 79,
   "id": "144cefbd",
   "metadata": {},
   "outputs": [
    {
     "name": "stdout",
     "output_type": "stream",
     "text": [
      "[[16]\n",
      " [14]\n",
      " [12]\n",
      " [15]\n",
      " [13]\n",
      " [11]\n",
      " [ 3]\n",
      " [ 2]\n",
      " [ 1]]\n"
     ]
    }
   ],
   "source": [
    "## Q#9: Reverse the columns and rows of \"newArray\".\n",
    "reversed_arr = np.flip(newArray)\n",
    "print(reversed_arr)"
   ]
  },
  {
   "cell_type": "code",
   "execution_count": 100,
   "id": "afb3037f",
   "metadata": {},
   "outputs": [
    {
     "name": "stdout",
     "output_type": "stream",
     "text": [
      "[0]\n",
      "[1]\n",
      "[2]\n",
      "[10]\n",
      "[12]\n",
      "[14]\n",
      "[11]\n",
      "[13]\n",
      "[15]\n"
     ]
    }
   ],
   "source": [
    "## Q#10: Decrement all elements of \"newArray\" with 1.\n",
    "for x in newArray:\n",
    "    x-=1\n",
    "    print(x)"
   ]
  },
  {
   "cell_type": "code",
   "execution_count": 82,
   "id": "f1bae9c8",
   "metadata": {},
   "outputs": [
    {
     "name": "stdout",
     "output_type": "stream",
     "text": [
      "Smallest 0\n",
      "Biggest 15\n"
     ]
    }
   ],
   "source": [
    "## Q#11: Find smallest and biggest values in \"newArray\".\n",
    "print(\"Smallest\",newArray.min())\n",
    "print(\"Biggest\",newArray.max())\n"
   ]
  },
  {
   "cell_type": "code",
   "execution_count": 90,
   "id": "516f22f8",
   "metadata": {},
   "outputs": [
    {
     "data": {
      "text/plain": [
       "array([0])"
      ]
     },
     "execution_count": 90,
     "metadata": {},
     "output_type": "execute_result"
    }
   ],
   "source": [
    "## Q#12: Print the first row of \"newArray\" using indexing.\n",
    "\n",
    "newArray[0]\n"
   ]
  },
  {
   "cell_type": "code",
   "execution_count": 91,
   "id": "70850805",
   "metadata": {},
   "outputs": [
    {
     "name": "stdout",
     "output_type": "stream",
     "text": [
      "[12]\n"
     ]
    }
   ],
   "source": [
    "## Q#13: Print the number equals 12 of \"newArray\" using indexing.\n",
    "print(newArray[newArray==12])"
   ]
  },
  {
   "cell_type": "code",
   "execution_count": 94,
   "id": "95d75d10",
   "metadata": {},
   "outputs": [
    {
     "name": "stdout",
     "output_type": "stream",
     "text": [
      "[ 0 13]\n"
     ]
    }
   ],
   "source": [
    "## Q#14: Print the numbers equal 0 and 13 of \"newArray\" using Slicing.\n",
    "print(newArray[(newArray==0) | (newArray==13)])"
   ]
  },
  {
   "cell_type": "code",
   "execution_count": 103,
   "id": "b3dbfa17",
   "metadata": {},
   "outputs": [
    {
     "name": "stdout",
     "output_type": "stream",
     "text": [
      "[[ 0]\n",
      " [ 1]\n",
      " [ 2]\n",
      " [10]\n",
      " [12]\n",
      " [14]\n",
      " [11]\n",
      " [13]\n",
      " [15]]\n"
     ]
    }
   ],
   "source": [
    "## Q#15: Change the shape of \"newArray\" to (9,1).\n",
    "print(newArray.reshape(9,1))"
   ]
  },
  {
   "cell_type": "code",
   "execution_count": 109,
   "id": "64f1c8e3",
   "metadata": {},
   "outputs": [
    {
     "name": "stdout",
     "output_type": "stream",
     "text": [
      "[[11 13]\n",
      " [15 12]\n",
      " [14 16]]\n"
     ]
    },
    {
     "ename": "ValueError",
     "evalue": "cannot reshape array of size 9 into shape (3,2)",
     "output_type": "error",
     "traceback": [
      "\u001b[1;31m---------------------------------------------------------------------------\u001b[0m",
      "\u001b[1;31mValueError\u001b[0m                                Traceback (most recent call last)",
      "\u001b[1;32m~\\AppData\\Local\\Temp\\ipykernel_19420\\2285055101.py\u001b[0m in \u001b[0;36m<module>\u001b[1;34m\u001b[0m\n\u001b[0;32m      1\u001b[0m \u001b[1;31m## Q#16: Change the shape of \"newArray\" to (3,2).\u001b[0m\u001b[1;33m\u001b[0m\u001b[1;33m\u001b[0m\u001b[0m\n\u001b[0;32m      2\u001b[0m \u001b[0mprint\u001b[0m\u001b[1;33m(\u001b[0m\u001b[0mw\u001b[0m\u001b[1;33m.\u001b[0m\u001b[0mreshape\u001b[0m\u001b[1;33m(\u001b[0m\u001b[1;36m3\u001b[0m\u001b[1;33m,\u001b[0m\u001b[1;36m2\u001b[0m\u001b[1;33m)\u001b[0m\u001b[1;33m)\u001b[0m\u001b[1;33m\u001b[0m\u001b[1;33m\u001b[0m\u001b[0m\n\u001b[1;32m----> 3\u001b[1;33m \u001b[0mprint\u001b[0m\u001b[1;33m(\u001b[0m\u001b[0mnewArray\u001b[0m\u001b[1;33m.\u001b[0m\u001b[0mreshape\u001b[0m\u001b[1;33m(\u001b[0m\u001b[1;36m3\u001b[0m\u001b[1;33m,\u001b[0m\u001b[1;36m2\u001b[0m\u001b[1;33m)\u001b[0m\u001b[1;33m)\u001b[0m\u001b[1;33m\u001b[0m\u001b[1;33m\u001b[0m\u001b[0m\n\u001b[0m",
      "\u001b[1;31mValueError\u001b[0m: cannot reshape array of size 9 into shape (3,2)"
     ]
    }
   ],
   "source": [
    "## Q#16: Change the shape of \"newArray\" to (3,2).\n",
    "print(w.reshape(3,2))\n",
    "print(newArray.reshape(3,2))"
   ]
  },
  {
   "cell_type": "markdown",
   "id": "09567fdc",
   "metadata": {},
   "source": [
    "# Well Done 🎉"
   ]
  }
 ],
 "metadata": {
  "kernelspec": {
   "display_name": "Python 3 (ipykernel)",
   "language": "python",
   "name": "python3"
  },
  "language_info": {
   "codemirror_mode": {
    "name": "ipython",
    "version": 3
   },
   "file_extension": ".py",
   "mimetype": "text/x-python",
   "name": "python",
   "nbconvert_exporter": "python",
   "pygments_lexer": "ipython3",
   "version": "3.9.13"
  }
 },
 "nbformat": 4,
 "nbformat_minor": 5
}
